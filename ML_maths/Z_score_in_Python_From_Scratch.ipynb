{
  "nbformat": 4,
  "nbformat_minor": 0,
  "metadata": {
    "colab": {
      "provenance": []
    },
    "kernelspec": {
      "name": "python3",
      "display_name": "Python 3"
    },
    "language_info": {
      "name": "python"
    }
  },
  "cells": [
    {
      "cell_type": "markdown",
      "source": [
        "# Calculate Z-score in Python From Scratch For The Given Values\n",
        "- zscore = [value - mean) / standard deviation of distribution]"
      ],
      "metadata": {
        "id": "pnqrvv0OYPoi"
      }
    },
    {
      "cell_type": "code",
      "source": [
        "import numpy as np\n",
        "import cmath"
      ],
      "metadata": {
        "id": "0jUJyZXDjwG-"
      },
      "execution_count": 32,
      "outputs": []
    },
    {
      "cell_type": "code",
      "execution_count": 33,
      "metadata": {
        "id": "XSQ3rj9KYMOx"
      },
      "outputs": [],
      "source": [
        "Values = [4,5,6,6,6,7,8,12,13,13,14,18] "
      ]
    },
    {
      "cell_type": "markdown",
      "source": [
        "# Using Numpy"
      ],
      "metadata": {
        "id": "JDTg9FpZkfaR"
      }
    },
    {
      "cell_type": "code",
      "source": [
        "mean = np.mean(Values)\n",
        "print(mean)\n",
        "\n",
        "sd = np.std(Values)\n",
        "print(sd)"
      ],
      "metadata": {
        "colab": {
          "base_uri": "https://localhost:8080/"
        },
        "id": "_K89zF_ZjhUC",
        "outputId": "4f3cbd6f-cc0e-4d88-cc65-9b91f73319d9"
      },
      "execution_count": 34,
      "outputs": [
        {
          "output_type": "stream",
          "name": "stdout",
          "text": [
            "9.333333333333334\n",
            "4.268749491621899\n"
          ]
        }
      ]
    },
    {
      "cell_type": "markdown",
      "source": [
        "# Manual approach"
      ],
      "metadata": {
        "id": "2A29auMjklnR"
      }
    },
    {
      "cell_type": "code",
      "source": [
        "mean = sum(Values)/len(Values)\n",
        "find_variance = 0\n",
        "for i in range(len(Values)):\n",
        "  find_variance += (Values[i] - mean)**2\n",
        "variance = find_variance/len(Values)\n",
        "standard_deviation = cmath.sqrt(variance)\n",
        "\n",
        "print(mean)\n",
        "print(standard_deviation)"
      ],
      "metadata": {
        "colab": {
          "base_uri": "https://localhost:8080/"
        },
        "id": "nfPmXRoUkkP7",
        "outputId": "53672d52-963e-4e77-8b09-f4de61bb2cd4"
      },
      "execution_count": 58,
      "outputs": [
        {
          "output_type": "stream",
          "name": "stdout",
          "text": [
            "9.333333333333334\n",
            "(4.268749491621899+0j)\n"
          ]
        }
      ]
    }
  ]
}