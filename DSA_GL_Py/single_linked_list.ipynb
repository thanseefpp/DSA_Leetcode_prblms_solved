{
 "cells": [
  {
   "cell_type": "markdown",
   "metadata": {},
   "source": [
    "## Singly linked list"
   ]
  },
  {
   "cell_type": "code",
   "execution_count": 66,
   "metadata": {},
   "outputs": [
    {
     "name": "stdout",
     "output_type": "stream",
     "text": [
      "5 10 50 \n",
      "20 5 10 50 \n",
      "20 5 10 50 30 "
     ]
    }
   ],
   "source": [
    "class Node:\n",
    "  def __init__(self,data):\n",
    "    self.data = data\n",
    "    self.next = None\n",
    "    \n",
    "class sll:\n",
    "  def __init__(self):\n",
    "    self.head = None\n",
    "    \n",
    "  def traversal(self):\n",
    "    if self.head is None:\n",
    "      print('Singly linked list empty')\n",
    "    else:\n",
    "      a = self.head\n",
    "      while a is not None:\n",
    "        print(a.data,end=\" \")\n",
    "        a=a.next\n",
    "        \n",
    "  def insert_at_beginning(self,insert_data):\n",
    "    print()\n",
    "    beg = Node(insert_data) #newly inserted 20\n",
    "    beg.next = self.head #connecting head to the newly inserted data\n",
    "    self.head = beg #head is replacing with new data\n",
    "  \n",
    "  def insert_at_end(self,insert_data):\n",
    "    print()\n",
    "    end = Node(insert_data)\n",
    "    a = self.head\n",
    "    while a.next is not None:\n",
    "      a = a.next\n",
    "    a.next = end\n",
    "    \n",
    "  def insert_at_specified(self,position,data):\n",
    "    data = Node(data)\n",
    "    a = self.head\n",
    "    for i in range(1,position-1):\n",
    "      \n",
    "\n",
    "\n",
    "n1 = Node(5)\n",
    "sll = sll()\n",
    "sll.head = n1\n",
    "n2 = Node(10)\n",
    "n1.next = n2\n",
    "n3 = Node(50)\n",
    "n2.next=n3\n",
    "sll.traversal()\n",
    "sll.insert_at_beginning(20)\n",
    "sll.traversal()\n",
    "sll.insert_at_end(30)\n",
    "sll.traversal()\n",
    "sll.insert_at_specified(3,45)\n",
    "sll.traversal()"
   ]
  }
 ],
 "metadata": {
  "kernelspec": {
   "display_name": "Python 3.9.13 ('tensorflow')",
   "language": "python",
   "name": "python3"
  },
  "language_info": {
   "codemirror_mode": {
    "name": "ipython",
    "version": 3
   },
   "file_extension": ".py",
   "mimetype": "text/x-python",
   "name": "python",
   "nbconvert_exporter": "python",
   "pygments_lexer": "ipython3",
   "version": "3.9.13 | packaged by conda-forge | (main, May 27 2022, 17:00:33) \n[Clang 13.0.1 ]"
  },
  "orig_nbformat": 4,
  "vscode": {
   "interpreter": {
    "hash": "e6a7a5b5dd92f3ff8a78f358dce6671993fb70b6d76018ef9a9619aeb3b6ac66"
   }
  }
 },
 "nbformat": 4,
 "nbformat_minor": 2
}
